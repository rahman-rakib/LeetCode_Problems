{
 "cells": [
  {
   "cell_type": "code",
   "execution_count": 29,
   "metadata": {},
   "outputs": [],
   "source": [
    "# Given an array of numbers arr. A sequence of numbers is called an arithmetic progression if the difference \n",
    "# between any two consecutive elements is the same.\n",
    "# Return true if the array can be rearranged to form an arithmetic progression, otherwise, return false."
   ]
  },
  {
   "cell_type": "code",
   "execution_count": 97,
   "metadata": {},
   "outputs": [],
   "source": [
    "def arithmetic_progression_check(list_):\n",
    "    sorted_list = sorted(list_)\n",
    "    difference = sorted_list[1] - sorted_list[0]\n",
    "    for i in range(2, len(sorted_list)):\n",
    "        new_difference = sorted_list[i] - sorted_list[i-1]\n",
    "        term_number = i\n",
    "        if new_difference != difference: \n",
    "            return False\n",
    "            break\n",
    "    if term_number == len(sorted_list)-1:\n",
    "        return True"
   ]
  },
  {
   "cell_type": "code",
   "execution_count": 98,
   "metadata": {},
   "outputs": [
    {
     "data": {
      "text/plain": [
       "True"
      ]
     },
     "execution_count": 98,
     "metadata": {},
     "output_type": "execute_result"
    }
   ],
   "source": [
    "arithmetic_progression_check([4, 3, 2, 1, 6, 5, 8, 7])"
   ]
  },
  {
   "cell_type": "code",
   "execution_count": 99,
   "metadata": {},
   "outputs": [
    {
     "data": {
      "text/plain": [
       "False"
      ]
     },
     "execution_count": 99,
     "metadata": {},
     "output_type": "execute_result"
    }
   ],
   "source": [
    "arithmetic_progression_check([4, 3, 2, 1, 6, 5, 17, 15])"
   ]
  },
  {
   "cell_type": "code",
   "execution_count": null,
   "metadata": {},
   "outputs": [],
   "source": []
  }
 ],
 "metadata": {
  "kernelspec": {
   "display_name": "Python 3",
   "language": "python",
   "name": "python3"
  },
  "language_info": {
   "codemirror_mode": {
    "name": "ipython",
    "version": 3
   },
   "file_extension": ".py",
   "mimetype": "text/x-python",
   "name": "python",
   "nbconvert_exporter": "python",
   "pygments_lexer": "ipython3",
   "version": "3.7.6"
  }
 },
 "nbformat": 4,
 "nbformat_minor": 4
}
