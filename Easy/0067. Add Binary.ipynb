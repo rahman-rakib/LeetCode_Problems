{
 "cells": [
  {
   "cell_type": "code",
   "execution_count": 130,
   "metadata": {},
   "outputs": [],
   "source": [
    "# Given two binary strings, return their sum (also a binary string).\n",
    "#The input strings are both non-empty and contains only characters 1 or 0."
   ]
  },
  {
   "cell_type": "code",
   "execution_count": 131,
   "metadata": {},
   "outputs": [],
   "source": [
    "## Supplementary: binary_to_boolean and boolean_to_binary converted\n",
    "    \n",
    "def binary_to_boolean(self, strings_):\n",
    "    b = []\n",
    "    for i in range(len(strings_)):\n",
    "        if strings_[i] == '0':\n",
    "            b.append(False)\n",
    "        else:\n",
    "            b.append(True)\n",
    "    return b\n",
    "    \n",
    "def boolean_to_binary(self, list_):\n",
    "    b = ''\n",
    "    for i in range(len(list_)):\n",
    "        if list_[i] == False:\n",
    "            b += '0'\n",
    "        else:\n",
    "            b += '1'\n",
    "    return b"
   ]
  },
  {
   "cell_type": "code",
   "execution_count": 137,
   "metadata": {},
   "outputs": [],
   "source": [
    "def addition_(binary1, binary2):\n",
    "\n",
    "    l1 = [int(i) for i in binary1]\n",
    "    l2 = [int(j) for j in binary2]\n",
    "\n",
    "    if len(l1) >= len(l2):\n",
    "        for i in range(len(l1)-len(l2)+1):\n",
    "            l2.insert(0,0)\n",
    "        l1.insert(0,0)\n",
    "    elif len(l2) > len(l1):\n",
    "        for i in range(len(l2)-len(l1)+1):\n",
    "            l1.insert(0,0)\n",
    "        l2.insert(0,0)\n",
    "\n",
    "    sum_ = []\n",
    "    for i in range(len(l1)):\n",
    "        sum_.append(l1[i]+l2[i])\n",
    "    \n",
    "    for i in range(-1,-len(sum_)-1,-1):\n",
    "        if sum_[i] == 2:\n",
    "            sum_[i] = 0\n",
    "            sum_[i-1] += 1\n",
    "        elif sum_[i] == 3:\n",
    "            sum_[i] = 1\n",
    "            sum_[i-1] += 1\n",
    "\n",
    "    if sum_[0] == 0:\n",
    "        del sum_[0]\n",
    "            \n",
    "    result_ = ''.join(str(i) for i in sum_)   \n",
    "    return result_"
   ]
  },
  {
   "cell_type": "code",
   "execution_count": 138,
   "metadata": {},
   "outputs": [
    {
     "data": {
      "text/plain": [
       "'101'"
      ]
     },
     "execution_count": 138,
     "metadata": {},
     "output_type": "execute_result"
    }
   ],
   "source": [
    "addition_('100', '1')"
   ]
  },
  {
   "cell_type": "code",
   "execution_count": 139,
   "metadata": {},
   "outputs": [
    {
     "data": {
      "text/plain": [
       "'110'"
      ]
     },
     "execution_count": 139,
     "metadata": {},
     "output_type": "execute_result"
    }
   ],
   "source": [
    "addition_('101', '1')"
   ]
  },
  {
   "cell_type": "code",
   "execution_count": 140,
   "metadata": {},
   "outputs": [
    {
     "data": {
      "text/plain": [
       "'1000'"
      ]
     },
     "execution_count": 140,
     "metadata": {},
     "output_type": "execute_result"
    }
   ],
   "source": [
    "addition_('111', '1')"
   ]
  },
  {
   "cell_type": "code",
   "execution_count": 141,
   "metadata": {},
   "outputs": [
    {
     "data": {
      "text/plain": [
       "'10101'"
      ]
     },
     "execution_count": 141,
     "metadata": {},
     "output_type": "execute_result"
    }
   ],
   "source": [
    "addition_('1010', '1011')"
   ]
  },
  {
   "cell_type": "code",
   "execution_count": null,
   "metadata": {},
   "outputs": [],
   "source": []
  }
 ],
 "metadata": {
  "kernelspec": {
   "display_name": "Python 3",
   "language": "python",
   "name": "python3"
  },
  "language_info": {
   "codemirror_mode": {
    "name": "ipython",
    "version": 3
   },
   "file_extension": ".py",
   "mimetype": "text/x-python",
   "name": "python",
   "nbconvert_exporter": "python",
   "pygments_lexer": "ipython3",
   "version": "3.7.6"
  }
 },
 "nbformat": 4,
 "nbformat_minor": 4
}
