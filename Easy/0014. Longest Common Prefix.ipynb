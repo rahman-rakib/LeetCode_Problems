{
 "cells": [
  {
   "cell_type": "code",
   "execution_count": 16,
   "metadata": {},
   "outputs": [],
   "source": [
    "# Write a function to find the longest common prefix string amongst an array of strings.\n",
    "# If there is no common prefix, return an empty string \"\"."
   ]
  },
  {
   "cell_type": "code",
   "execution_count": 17,
   "metadata": {},
   "outputs": [],
   "source": [
    "class CommonPrefixFinder:\n",
    "    \n",
    "    def shortest_length(self, string_list):\n",
    "        lengths = []\n",
    "        for i in range(len(string_list)):\n",
    "            lengths.append(len(string_list[i]))\n",
    "        return min(lengths)\n",
    "    \n",
    "    def prefix_finder(self, string_list):\n",
    "        max_length = self.shortest_length(string_list)\n",
    "        for i in range(max_length):\n",
    "            for j in range(-1, len(string_list)-1):\n",
    "                if string_list[j][:i+1] == string_list[j+1][:i+1]:\n",
    "                    continue\n",
    "                else: \n",
    "                    return string_list[0][:i]"
   ]
  },
  {
   "cell_type": "code",
   "execution_count": 18,
   "metadata": {},
   "outputs": [
    {
     "data": {
      "text/plain": [
       "'fl'"
      ]
     },
     "execution_count": 18,
     "metadata": {},
     "output_type": "execute_result"
    }
   ],
   "source": [
    "cpf = CommonPrefixFinder()\n",
    "string_list = [\"flower\",\"flow\",\"flight\"]\n",
    "cpf.prefix_finder(string_list)"
   ]
  },
  {
   "cell_type": "code",
   "execution_count": 19,
   "metadata": {},
   "outputs": [
    {
     "data": {
      "text/plain": [
       "''"
      ]
     },
     "execution_count": 19,
     "metadata": {},
     "output_type": "execute_result"
    }
   ],
   "source": [
    "cpf = CommonPrefixFinder()\n",
    "string_list = [\"dog\",\"racecar\",\"car\"]\n",
    "cpf.prefix_finder(string_list)"
   ]
  },
  {
   "cell_type": "code",
   "execution_count": 20,
   "metadata": {},
   "outputs": [
    {
     "data": {
      "text/plain": [
       "'pro'"
      ]
     },
     "execution_count": 20,
     "metadata": {},
     "output_type": "execute_result"
    }
   ],
   "source": [
    "cpf = CommonPrefixFinder()\n",
    "string_list = [\"professional\",\"prostitutes\",\"promise\",\"profusely\"]\n",
    "cpf.prefix_finder(string_list)"
   ]
  },
  {
   "cell_type": "code",
   "execution_count": null,
   "metadata": {},
   "outputs": [],
   "source": []
  }
 ],
 "metadata": {
  "kernelspec": {
   "display_name": "Python 3",
   "language": "python",
   "name": "python3"
  },
  "language_info": {
   "codemirror_mode": {
    "name": "ipython",
    "version": 3
   },
   "file_extension": ".py",
   "mimetype": "text/x-python",
   "name": "python",
   "nbconvert_exporter": "python",
   "pygments_lexer": "ipython3",
   "version": "3.7.6"
  }
 },
 "nbformat": 4,
 "nbformat_minor": 4
}
