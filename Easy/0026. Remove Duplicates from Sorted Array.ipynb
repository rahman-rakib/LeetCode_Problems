{
 "cells": [
  {
   "cell_type": "code",
   "execution_count": 102,
   "metadata": {},
   "outputs": [],
   "source": [
    "# Given a sorted array nums, remove the duplicates in-place such that each element appear only once and return\n",
    "# the new length.\n",
    "# Do not allocate extra space for another array, you must do this by modifying the input array in-place with \n",
    "# O(1) extra memory."
   ]
  },
  {
   "cell_type": "code",
   "execution_count": 103,
   "metadata": {},
   "outputs": [],
   "source": [
    "# Using np.unique()\n",
    "\n",
    "import numpy as np\n",
    "\n",
    "def remove_duplicates1(given_list):\n",
    "    list_ = np.array(given_list)\n",
    "    edited_list = np.unique(list_).tolist()\n",
    "    return len(edited_list), edited_list"
   ]
  },
  {
   "cell_type": "code",
   "execution_count": 104,
   "metadata": {},
   "outputs": [
    {
     "data": {
      "text/plain": [
       "(3, [1, 2, 3])"
      ]
     },
     "execution_count": 104,
     "metadata": {},
     "output_type": "execute_result"
    }
   ],
   "source": [
    "remove_duplicates1([1,1,2,3,3])"
   ]
  },
  {
   "cell_type": "code",
   "execution_count": 106,
   "metadata": {},
   "outputs": [],
   "source": [
    "# Without using numpy\n",
    "\n",
    "def remove_duplicates2(given_list):\n",
    "    \n",
    "    length_ = len(given_list)\n",
    "    i = 0\n",
    "    \n",
    "    while True:\n",
    "        if given_list[i] == given_list[i+1]:\n",
    "            given_list.remove(given_list[i])\n",
    "            length_ -= 1\n",
    "            i -= 1\n",
    "        i += 1\n",
    "        \n",
    "        if i == (length_ - 1):\n",
    "            break\n",
    "            \n",
    "    return len(given_list), given_list"
   ]
  },
  {
   "cell_type": "code",
   "execution_count": 107,
   "metadata": {},
   "outputs": [
    {
     "data": {
      "text/plain": [
       "(4, [1, 2, 3, 4])"
      ]
     },
     "execution_count": 107,
     "metadata": {},
     "output_type": "execute_result"
    }
   ],
   "source": [
    "remove_duplicates2([1,1,2,3,3,4])"
   ]
  },
  {
   "cell_type": "code",
   "execution_count": null,
   "metadata": {},
   "outputs": [],
   "source": []
  }
 ],
 "metadata": {
  "kernelspec": {
   "display_name": "Python 3",
   "language": "python",
   "name": "python3"
  },
  "language_info": {
   "codemirror_mode": {
    "name": "ipython",
    "version": 3
   },
   "file_extension": ".py",
   "mimetype": "text/x-python",
   "name": "python",
   "nbconvert_exporter": "python",
   "pygments_lexer": "ipython3",
   "version": "3.7.6"
  }
 },
 "nbformat": 4,
 "nbformat_minor": 4
}
