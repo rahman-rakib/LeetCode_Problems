{
 "cells": [
  {
   "cell_type": "code",
   "execution_count": null,
   "metadata": {},
   "outputs": [],
   "source": [
    "# Given two binary strings, return their sum (also a binary string).\n",
    "#The input strings are both non-empty and contains only characters 1 or 0."
   ]
  },
  {
   "cell_type": "code",
   "execution_count": 54,
   "metadata": {},
   "outputs": [],
   "source": [
    "class AddBinary:\n",
    "    \n",
    "    def binary_to_boolean(self, strings_):\n",
    "        b = []\n",
    "        for i in range(len(strings_)):\n",
    "            if strings_[i] == '0':\n",
    "                b.append(False)\n",
    "            else:\n",
    "                b.append(True)\n",
    "        return b\n",
    "    \n",
    "    def boolean_to_binary(self, list_):\n",
    "        b = ''\n",
    "        for i in range(len(list_)):\n",
    "            if list_[i] == False:\n",
    "                b.join('0')\n",
    "            else:\n",
    "                b.join('1')\n",
    "        return b\n",
    "\n",
    "\n",
    "    def addition_(self, binary1, binary2):\n",
    "\n",
    "        l1 = self.binary_to_boolean(binary1)\n",
    "        l2 = self.binary_to_boolean(binary2)\n",
    "\n",
    "        if len(l1) > len(l2):\n",
    "            for i in range(len(l1)-len(l2)):\n",
    "                l2.insert(0,False) \n",
    "        elif len(l2) > len(l1):\n",
    "            for i in range(len(l2)-len(l1)):\n",
    "                l1.insert(0,False)\n",
    "                \n",
    "        print(l1, l2)\n",
    "\n",
    "        for i in range(-1,-len(l1),-1):\n",
    "            if l1[i] == True and l2[i] == True:\n",
    "                l1[i] = False\n",
    "                l1[i-1] = l1[i-1] or True \n",
    "            else:\n",
    "                l1[i] = l1[i] or l2[i]\n",
    "                \n",
    "        return l1"
   ]
  },
  {
   "cell_type": "code",
   "execution_count": 55,
   "metadata": {},
   "outputs": [
    {
     "name": "stdout",
     "output_type": "stream",
     "text": [
      "[False, False, True, False, False, True] [True, False, True, False, False, True]\n"
     ]
    },
    {
     "data": {
      "text/plain": [
       "[False, True, False, False, True, False]"
      ]
     },
     "execution_count": 55,
     "metadata": {},
     "output_type": "execute_result"
    }
   ],
   "source": [
    "ab =  AddBinary()\n",
    "ab.addition_('1001', '101001')"
   ]
  },
  {
   "cell_type": "code",
   "execution_count": null,
   "metadata": {},
   "outputs": [],
   "source": []
  }
 ],
 "metadata": {
  "kernelspec": {
   "display_name": "Python 3",
   "language": "python",
   "name": "python3"
  },
  "language_info": {
   "codemirror_mode": {
    "name": "ipython",
    "version": 3
   },
   "file_extension": ".py",
   "mimetype": "text/x-python",
   "name": "python",
   "nbconvert_exporter": "python",
   "pygments_lexer": "ipython3",
   "version": "3.7.6"
  }
 },
 "nbformat": 4,
 "nbformat_minor": 4
}
