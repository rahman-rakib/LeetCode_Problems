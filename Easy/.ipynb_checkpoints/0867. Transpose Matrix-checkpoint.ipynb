{
 "cells": [
  {
   "cell_type": "code",
   "execution_count": null,
   "metadata": {},
   "outputs": [],
   "source": [
    "# Given a matrix A, return the transpose of A.\n",
    "# The transpose of a matrix is the matrix flipped over it's main diagonal, switching the row and column \n",
    "# indices of the matrix."
   ]
  },
  {
   "cell_type": "code",
   "execution_count": 32,
   "metadata": {},
   "outputs": [],
   "source": [
    "def transposition(input_matrix):\n",
    "    number_of_rows = len(input_matrix) \n",
    "    number_of_columns = len(input_matrix[0])\n",
    "    transpose_matrix = []\n",
    "    for i in range(number_of_columns):\n",
    "        transpose_row = []\n",
    "        for j in range(number_of_rows):\n",
    "            transpose_row.append(input_matrix[j][i])\n",
    "        transpose_matrix.append(transpose_row)\n",
    "    return transpose_matrix"
   ]
  },
  {
   "cell_type": "code",
   "execution_count": 33,
   "metadata": {},
   "outputs": [
    {
     "data": {
      "text/plain": [
       "[[1, 4, 7], [2, 5, 8], [3, 6, 9]]"
      ]
     },
     "execution_count": 33,
     "metadata": {},
     "output_type": "execute_result"
    }
   ],
   "source": [
    "input_matrix = [[1,2,3],[4,5,6],[7,8,9]]\n",
    "transposition(input_matrix)"
   ]
  },
  {
   "cell_type": "code",
   "execution_count": 34,
   "metadata": {},
   "outputs": [
    {
     "data": {
      "text/plain": [
       "[[1, 4], [2, 5], [3, 6]]"
      ]
     },
     "execution_count": 34,
     "metadata": {},
     "output_type": "execute_result"
    }
   ],
   "source": [
    "input_matrix =  [[1,2,3],[4,5,6]]\n",
    "transposition(input_matrix)"
   ]
  }
 ],
 "metadata": {
  "kernelspec": {
   "display_name": "Python 3",
   "language": "python",
   "name": "python3"
  },
  "language_info": {
   "codemirror_mode": {
    "name": "ipython",
    "version": 3
   },
   "file_extension": ".py",
   "mimetype": "text/x-python",
   "name": "python",
   "nbconvert_exporter": "python",
   "pygments_lexer": "ipython3",
   "version": "3.7.6"
  }
 },
 "nbformat": 4,
 "nbformat_minor": 4
}
