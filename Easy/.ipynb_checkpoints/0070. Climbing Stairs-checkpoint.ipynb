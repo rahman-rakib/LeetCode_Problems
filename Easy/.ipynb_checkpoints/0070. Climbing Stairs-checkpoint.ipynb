{
 "cells": [
  {
   "cell_type": "code",
   "execution_count": null,
   "metadata": {},
   "outputs": [],
   "source": [
    "# You are climbing a stair case. It takes n steps to reach to the top.\n",
    "# Each time you can either climb 1 or 2 steps. In how many distinct ways can you climb to the top?"
   ]
  },
  {
   "cell_type": "code",
   "execution_count": 36,
   "metadata": {},
   "outputs": [],
   "source": [
    "class ClimbingStairs:\n",
    "    \n",
    "    def factorial_(self, number_):\n",
    "        product_ = 1\n",
    "        for i in range(1,number_+1):\n",
    "            product_ *= i\n",
    "        return product_\n",
    "    \n",
    "    def combination_(self, given_,taken_):\n",
    "        return int((self.factorial_(given_)/self.factorial_(taken_))/self.factorial_(given_-taken_))\n",
    "    \n",
    "    def climbing_stairs(self, n):\n",
    "        twos = int(n//2)\n",
    "        ones = int(n%2)\n",
    "        ways = 0\n",
    "        for i in range(ones,n+1,2):\n",
    "            ways += self.combination_(int(twos+i-i//2),i)\n",
    "        return ways"
   ]
  },
  {
   "cell_type": "code",
   "execution_count": 38,
   "metadata": {},
   "outputs": [
    {
     "data": {
      "text/plain": [
       "1"
      ]
     },
     "execution_count": 38,
     "metadata": {},
     "output_type": "execute_result"
    }
   ],
   "source": [
    "cs = ClimbingStairs()\n",
    "cs.climbing_stairs(1)"
   ]
  },
  {
   "cell_type": "code",
   "execution_count": 39,
   "metadata": {},
   "outputs": [
    {
     "data": {
      "text/plain": [
       "2"
      ]
     },
     "execution_count": 39,
     "metadata": {},
     "output_type": "execute_result"
    }
   ],
   "source": [
    "cs = ClimbingStairs()\n",
    "cs.climbing_stairs(2)"
   ]
  },
  {
   "cell_type": "code",
   "execution_count": 40,
   "metadata": {},
   "outputs": [
    {
     "data": {
      "text/plain": [
       "3"
      ]
     },
     "execution_count": 40,
     "metadata": {},
     "output_type": "execute_result"
    }
   ],
   "source": [
    "cs = ClimbingStairs()\n",
    "cs.climbing_stairs(3)"
   ]
  },
  {
   "cell_type": "code",
   "execution_count": 41,
   "metadata": {},
   "outputs": [
    {
     "data": {
      "text/plain": [
       "5"
      ]
     },
     "execution_count": 41,
     "metadata": {},
     "output_type": "execute_result"
    }
   ],
   "source": [
    "cs = ClimbingStairs()\n",
    "cs.climbing_stairs(4)"
   ]
  },
  {
   "cell_type": "code",
   "execution_count": 42,
   "metadata": {},
   "outputs": [
    {
     "data": {
      "text/plain": [
       "1836311902"
      ]
     },
     "execution_count": 42,
     "metadata": {},
     "output_type": "execute_result"
    }
   ],
   "source": [
    "cs = ClimbingStairs()\n",
    "cs.climbing_stairs(45)"
   ]
  },
  {
   "cell_type": "code",
   "execution_count": null,
   "metadata": {},
   "outputs": [],
   "source": []
  }
 ],
 "metadata": {
  "kernelspec": {
   "display_name": "Python 3",
   "language": "python",
   "name": "python3"
  },
  "language_info": {
   "codemirror_mode": {
    "name": "ipython",
    "version": 3
   },
   "file_extension": ".py",
   "mimetype": "text/x-python",
   "name": "python",
   "nbconvert_exporter": "python",
   "pygments_lexer": "ipython3",
   "version": "3.7.6"
  }
 },
 "nbformat": 4,
 "nbformat_minor": 4
}
