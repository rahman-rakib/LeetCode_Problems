{
 "cells": [
  {
   "cell_type": "code",
   "execution_count": null,
   "metadata": {},
   "outputs": [],
   "source": [
    "# Given the array prices where prices[i] is the price of the ith item in a shop. \n",
    "# There is a special discount for items in the shop, if you buy the ith item, then you will receive a discount \n",
    "# equivalent to prices[j] where j is the minimum index such that j > i and prices[j] <= prices[i], \n",
    "# otherwise, you will not receive any discount at all.\n",
    "\n",
    "# Return an array where the ith element is the final price you will pay for the ith item of the shop \n",
    "# considering the special discount."
   ]
  },
  {
   "cell_type": "code",
   "execution_count": 8,
   "metadata": {},
   "outputs": [],
   "source": [
    "def discount_price(original_price):\n",
    "    discount_price_list = []\n",
    "    for i in range(len(original_price)-1):\n",
    "        for j in range(i+1, len(original_price)):\n",
    "            if original_price[j] <= original_price[i]:\n",
    "                item_price = original_price[i] - original_price[j]\n",
    "                break\n",
    "            else:\n",
    "                item_price = original_price[i] \n",
    "        discount_price_list.append(item_price)\n",
    "    discount_price_list.append(original_price[len(original_price)-1])\n",
    "    return discount_price_list"
   ]
  },
  {
   "cell_type": "code",
   "execution_count": 9,
   "metadata": {},
   "outputs": [
    {
     "data": {
      "text/plain": [
       "[4, 2, 4, 2, 3]"
      ]
     },
     "execution_count": 9,
     "metadata": {},
     "output_type": "execute_result"
    }
   ],
   "source": [
    "discount_price([8,4,6,2,3])"
   ]
  },
  {
   "cell_type": "code",
   "execution_count": null,
   "metadata": {},
   "outputs": [],
   "source": [
    "discount_price([8,4,6,2,3])"
   ]
  }
 ],
 "metadata": {
  "kernelspec": {
   "display_name": "Python 3",
   "language": "python",
   "name": "python3"
  },
  "language_info": {
   "codemirror_mode": {
    "name": "ipython",
    "version": 3
   },
   "file_extension": ".py",
   "mimetype": "text/x-python",
   "name": "python",
   "nbconvert_exporter": "python",
   "pygments_lexer": "ipython3",
   "version": "3.7.6"
  }
 },
 "nbformat": 4,
 "nbformat_minor": 4
}
