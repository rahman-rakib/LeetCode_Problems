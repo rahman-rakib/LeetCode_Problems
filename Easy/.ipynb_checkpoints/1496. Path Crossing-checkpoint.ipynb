{
 "cells": [
  {
   "cell_type": "code",
   "execution_count": 11,
   "metadata": {},
   "outputs": [],
   "source": [
    "## Given a string path, where path[i] = 'N', 'S', 'E' or 'W', each representing moving one unit north, south, \n",
    "# east, or west, respectively. You start at the origin (0, 0) on a 2D plane and walk on the path specified by \n",
    "# path.\n",
    "\n",
    "# Return True if the path crosses itself at any point, that is, if at any time you are on a location you've \n",
    "#previously visited. Return False otherwise."
   ]
  },
  {
   "cell_type": "code",
   "execution_count": 12,
   "metadata": {},
   "outputs": [],
   "source": [
    "#Constraints:\n",
    "\n",
    "#1 <= path.length <= 10^4\n",
    "#path will only consist of characters in {'N', 'S', 'E', 'W}"
   ]
  },
  {
   "cell_type": "code",
   "execution_count": 13,
   "metadata": {},
   "outputs": [],
   "source": [
    "import numpy as np\n",
    "\n",
    "def displacement(direction):\n",
    "    if direction == 'N':\n",
    "        return np.array([0,1])\n",
    "    elif direction == 'S':\n",
    "        return np.array([0,-1])\n",
    "    elif direction == 'E':\n",
    "        return np.array([1,0])\n",
    "    elif direction == 'W':\n",
    "        return np.array([-1,0])\n",
    "\n",
    "def path_points(path):\n",
    "    initial_position = np.array([0,0])\n",
    "    points = [np.array([0,0])]\n",
    "    for i in range(len(path)):\n",
    "        final_position = initial_position + displacement(path[i])\n",
    "        initial_position = final_position\n",
    "        points.append(final_position)\n",
    "    return(points)\n",
    "\n",
    "def crossing_check(path):\n",
    "    points = path_points(path)\n",
    "    different_points = np.unique(points, axis = 0)\n",
    "    \n",
    "    if len(points) != len(different_points):\n",
    "        return True\n",
    "    else:\n",
    "        return False"
   ]
  },
  {
   "cell_type": "code",
   "execution_count": 14,
   "metadata": {},
   "outputs": [
    {
     "data": {
      "text/plain": [
       "False"
      ]
     },
     "execution_count": 14,
     "metadata": {},
     "output_type": "execute_result"
    }
   ],
   "source": [
    "crossing_check('NES')"
   ]
  },
  {
   "cell_type": "code",
   "execution_count": 15,
   "metadata": {},
   "outputs": [
    {
     "data": {
      "text/plain": [
       "True"
      ]
     },
     "execution_count": 15,
     "metadata": {},
     "output_type": "execute_result"
    }
   ],
   "source": [
    "crossing_check('NESWW')"
   ]
  },
  {
   "cell_type": "code",
   "execution_count": 16,
   "metadata": {},
   "outputs": [],
   "source": [
    "class PathCrossing:\n",
    "    \n",
    "    def displacement(self, direction):\n",
    "        if direction == 'N':\n",
    "            return np.array([0,1])\n",
    "        elif direction == 'S':\n",
    "            return np.array([0,-1])\n",
    "        elif direction == 'E':\n",
    "            return np.array([1,0])\n",
    "        elif direction == 'W':\n",
    "            return np.array([-1,0])\n",
    "\n",
    "    def path_points(self, path):\n",
    "        initial_position = np.array([0,0])\n",
    "        points = [np.array([0,0])]\n",
    "        for i in range(len(path)):\n",
    "            final_position = initial_position + self.displacement(path[i])\n",
    "            initial_position = final_position\n",
    "            points.append(final_position)\n",
    "        return(points)\n",
    "\n",
    "    def crossing_check(self, path):\n",
    "        points = self.path_points(path)\n",
    "        different_points = np.unique(points, axis = 0)\n",
    "\n",
    "        if len(points) != len(different_points):\n",
    "            return True\n",
    "        else:\n",
    "            return False"
   ]
  },
  {
   "cell_type": "code",
   "execution_count": 17,
   "metadata": {},
   "outputs": [],
   "source": [
    "path = PathCrossing()"
   ]
  },
  {
   "cell_type": "code",
   "execution_count": 18,
   "metadata": {},
   "outputs": [
    {
     "data": {
      "text/plain": [
       "False"
      ]
     },
     "execution_count": 18,
     "metadata": {},
     "output_type": "execute_result"
    }
   ],
   "source": [
    "path.crossing_check('NES')"
   ]
  },
  {
   "cell_type": "code",
   "execution_count": 19,
   "metadata": {},
   "outputs": [
    {
     "data": {
      "text/plain": [
       "True"
      ]
     },
     "execution_count": 19,
     "metadata": {},
     "output_type": "execute_result"
    }
   ],
   "source": [
    "path.crossing_check('NESWW')"
   ]
  },
  {
   "cell_type": "code",
   "execution_count": null,
   "metadata": {},
   "outputs": [],
   "source": []
  }
 ],
 "metadata": {
  "kernelspec": {
   "display_name": "Python 3",
   "language": "python",
   "name": "python3"
  },
  "language_info": {
   "codemirror_mode": {
    "name": "ipython",
    "version": 3
   },
   "file_extension": ".py",
   "mimetype": "text/x-python",
   "name": "python",
   "nbconvert_exporter": "python",
   "pygments_lexer": "ipython3",
   "version": "3.7.6"
  }
 },
 "nbformat": 4,
 "nbformat_minor": 4
}
