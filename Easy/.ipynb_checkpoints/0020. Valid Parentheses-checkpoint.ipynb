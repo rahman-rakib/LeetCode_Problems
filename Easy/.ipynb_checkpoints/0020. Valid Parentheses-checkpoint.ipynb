{
 "cells": [
  {
   "cell_type": "code",
   "execution_count": 57,
   "metadata": {},
   "outputs": [],
   "source": [
    "# Given a string containing just the characters '(', ')', '{', '}', '[' and ']', \n",
    "# determine if the input string is valid.\n",
    "# An input string is valid if:\n",
    "# Open brackets must be closed by the same type of brackets.\n",
    "# Open brackets must be closed in the correct order.\n",
    "# Note that an empty string is also considered valid."
   ]
  },
  {
   "cell_type": "code",
   "execution_count": 58,
   "metadata": {},
   "outputs": [],
   "source": [
    "def valid_pathenthesis(parentheses):\n",
    "\n",
    "    left_brackets = [\"(\", \"{\", \"[\"]\n",
    "    right_brackets = [\")\", \"}\", \"]\"]\n",
    "    \n",
    "    if len(parentheses)%2 != 0:\n",
    "        return 'There is atleast one unpaired bracket'\n",
    "    \n",
    "    for i in range(3):\n",
    "        if parentheses.count(left_brackets[i]) != parentheses.count(right_brackets[i]):\n",
    "            return False\n",
    "        \n",
    "    bracket_sum = 0\n",
    "    sum_list = []\n",
    "    \n",
    "    for i in range(len(parentheses)):\n",
    "        for j in range(3):\n",
    "            if parentheses[i] == left_brackets[j]:\n",
    "                bracket_sum += j+1\n",
    "            elif parentheses[i] == right_brackets[j]:\n",
    "                bracket_sum -= j+1\n",
    "            sum_list.append(bracket_sum)\n",
    "    \n",
    "    for i in range(len(sum_list)):\n",
    "        if sum_list[i] < 0:\n",
    "            return False\n",
    "        else:\n",
    "            return True"
   ]
  },
  {
   "cell_type": "code",
   "execution_count": 59,
   "metadata": {},
   "outputs": [
    {
     "data": {
      "text/plain": [
       "True"
      ]
     },
     "execution_count": 59,
     "metadata": {},
     "output_type": "execute_result"
    }
   ],
   "source": [
    "valid_pathenthesis(\"()\")"
   ]
  },
  {
   "cell_type": "code",
   "execution_count": 60,
   "metadata": {},
   "outputs": [
    {
     "data": {
      "text/plain": [
       "True"
      ]
     },
     "execution_count": 60,
     "metadata": {},
     "output_type": "execute_result"
    }
   ],
   "source": [
    "valid_pathenthesis(\"()[]{}\")"
   ]
  },
  {
   "cell_type": "code",
   "execution_count": 61,
   "metadata": {},
   "outputs": [
    {
     "data": {
      "text/plain": [
       "False"
      ]
     },
     "execution_count": 61,
     "metadata": {},
     "output_type": "execute_result"
    }
   ],
   "source": [
    "valid_pathenthesis(\"(]\")"
   ]
  },
  {
   "cell_type": "code",
   "execution_count": 62,
   "metadata": {},
   "outputs": [
    {
     "data": {
      "text/plain": [
       "True"
      ]
     },
     "execution_count": 62,
     "metadata": {},
     "output_type": "execute_result"
    }
   ],
   "source": [
    "valid_pathenthesis(\"{[]}\")"
   ]
  },
  {
   "cell_type": "code",
   "execution_count": 63,
   "metadata": {},
   "outputs": [
    {
     "data": {
      "text/plain": [
       "'There is atleast one unpaired bracket'"
      ]
     },
     "execution_count": 63,
     "metadata": {},
     "output_type": "execute_result"
    }
   ],
   "source": [
    "valid_pathenthesis(\"{[]})\")"
   ]
  },
  {
   "cell_type": "code",
   "execution_count": 64,
   "metadata": {},
   "outputs": [
    {
     "data": {
      "text/plain": [
       "True"
      ]
     },
     "execution_count": 64,
     "metadata": {},
     "output_type": "execute_result"
    }
   ],
   "source": [
    "valid_pathenthesis(\"{[]}()[]\")"
   ]
  },
  {
   "cell_type": "code",
   "execution_count": null,
   "metadata": {},
   "outputs": [],
   "source": []
  }
 ],
 "metadata": {
  "kernelspec": {
   "display_name": "Python 3",
   "language": "python",
   "name": "python3"
  },
  "language_info": {
   "codemirror_mode": {
    "name": "ipython",
    "version": 3
   },
   "file_extension": ".py",
   "mimetype": "text/x-python",
   "name": "python",
   "nbconvert_exporter": "python",
   "pygments_lexer": "ipython3",
   "version": "3.7.6"
  }
 },
 "nbformat": 4,
 "nbformat_minor": 4
}
