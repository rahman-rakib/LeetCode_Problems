{
 "cells": [
  {
   "cell_type": "code",
   "execution_count": 84,
   "metadata": {},
   "outputs": [],
   "source": [
    "# Roman numerals are represented by seven different symbols: I, V, X, L, C, D and M.\n",
    "\n",
    "#Symbol       Value\n",
    "#I             1\n",
    "#V             5\n",
    "#X             10\n",
    "#L             50\n",
    "#C             100\n",
    "#D             500\n",
    "#M             1000\n",
    "#For example, two is written as II in Roman numeral, just two one's added together. \n",
    "#Twelve is written as, XII, which is simply X + II. The number twenty seven is written as XXVII, \n",
    "#which is XX + V + II.\n",
    "\n",
    "#Roman numerals are usually written largest to smallest from left to right. However, the numeral \n",
    "#for four is not IIII. Instead, the number four is written as IV. Because the one is before the five \n",
    "#we subtract it making four. The same principle applies to the number nine, which is written as IX. \n",
    "#There are six instances where subtraction is used:\n",
    "\n",
    "#I can be placed before V (5) and X (10) to make 4 and 9. \n",
    "#X can be placed before L (50) and C (100) to make 40 and 90. \n",
    "#C can be placed before D (500) and M (1000) to make 400 and 900.\n",
    "#Given a roman numeral, convert it to an integer. Input is guaranteed to be within the range from 1 to 3999."
   ]
  },
  {
   "cell_type": "code",
   "execution_count": 85,
   "metadata": {},
   "outputs": [],
   "source": [
    "class RomanToInteger:\n",
    "\n",
    "    def partial_sum(self, roman_numeral):\n",
    "\n",
    "        integer_value = 0\n",
    "\n",
    "        for i in range(len(roman_numeral)-1):\n",
    "\n",
    "            if roman_numeral[i] == 'M':\n",
    "                integer_value += 1000\n",
    "\n",
    "            elif roman_numeral[i] == 'D':\n",
    "                integer_value += 500\n",
    "\n",
    "            elif roman_numeral[i] == 'C':\n",
    "                if roman_numeral[i+1] == 'M' or roman_numeral[i+1] == 'D':\n",
    "                    integer_value -= 100\n",
    "                else:\n",
    "                    integer_value += 100\n",
    "\n",
    "            elif roman_numeral[i] == 'L':\n",
    "                integer_value += 50\n",
    "\n",
    "            elif roman_numeral[i] == 'X':\n",
    "                if roman_numeral[i+1] == 'C' or roman_numeral[i+1] == 'L':\n",
    "                    integer_value -= 10\n",
    "                else:\n",
    "                    integer_value += 10\n",
    "\n",
    "            elif roman_numeral[i] == 'V':\n",
    "                integer_value += 5\n",
    "\n",
    "            elif roman_numeral[i] == 'I':\n",
    "                if roman_numeral[i+1] == 'X' or roman_numeral[i+1] == 'V':\n",
    "                    integer_value -= 1\n",
    "                else:\n",
    "                    integer_value += 1\n",
    "\n",
    "        return integer_value \n",
    "\n",
    "    def last_letter_value(self, roman_numeral):\n",
    "        \n",
    "        if roman_numeral[-1] == 'M':\n",
    "            return 1000\n",
    "        \n",
    "        if roman_numeral[-1] == 'D':\n",
    "            return 500\n",
    "        \n",
    "        if roman_numeral[-1] == 'C':\n",
    "            return 100\n",
    "        \n",
    "        if roman_numeral[-1] == 'L':\n",
    "            return 50\n",
    "        \n",
    "        if roman_numeral[-1] == 'X':\n",
    "            return 10\n",
    "        \n",
    "        if roman_numeral[-1] == 'V':\n",
    "            return 5\n",
    "        \n",
    "        if roman_numeral[-1] == 'I':\n",
    "            return 1\n",
    "        \n",
    "    def roman_to_integer(self, roman_numeral):\n",
    "        \n",
    "        return self.partial_sum(roman_numeral) + self.last_letter_value(roman_numeral)"
   ]
  },
  {
   "cell_type": "code",
   "execution_count": 86,
   "metadata": {},
   "outputs": [],
   "source": [
    "R2I = RomanToInteger()"
   ]
  },
  {
   "cell_type": "code",
   "execution_count": 87,
   "metadata": {},
   "outputs": [
    {
     "data": {
      "text/plain": [
       "3"
      ]
     },
     "execution_count": 87,
     "metadata": {},
     "output_type": "execute_result"
    }
   ],
   "source": [
    "R2I.roman_to_integer(\"III\")"
   ]
  },
  {
   "cell_type": "code",
   "execution_count": 88,
   "metadata": {},
   "outputs": [
    {
     "data": {
      "text/plain": [
       "9"
      ]
     },
     "execution_count": 88,
     "metadata": {},
     "output_type": "execute_result"
    }
   ],
   "source": [
    "R2I.roman_to_integer(\"IX\")"
   ]
  },
  {
   "cell_type": "code",
   "execution_count": 89,
   "metadata": {},
   "outputs": [
    {
     "data": {
      "text/plain": [
       "58"
      ]
     },
     "execution_count": 89,
     "metadata": {},
     "output_type": "execute_result"
    }
   ],
   "source": [
    "R2I.roman_to_integer(\"LVIII\")"
   ]
  },
  {
   "cell_type": "code",
   "execution_count": 90,
   "metadata": {},
   "outputs": [
    {
     "data": {
      "text/plain": [
       "1994"
      ]
     },
     "execution_count": 90,
     "metadata": {},
     "output_type": "execute_result"
    }
   ],
   "source": [
    "R2I.roman_to_integer(\"MCMXCIV\")"
   ]
  }
 ],
 "metadata": {
  "kernelspec": {
   "display_name": "Python 3",
   "language": "python",
   "name": "python3"
  },
  "language_info": {
   "codemirror_mode": {
    "name": "ipython",
    "version": 3
   },
   "file_extension": ".py",
   "mimetype": "text/x-python",
   "name": "python",
   "nbconvert_exporter": "python",
   "pygments_lexer": "ipython3",
   "version": "3.7.6"
  }
 },
 "nbformat": 4,
 "nbformat_minor": 4
}
